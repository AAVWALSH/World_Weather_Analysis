{
 "cells": [
  {
   "cell_type": "code",
   "execution_count": 1,
   "id": "b14271f6",
   "metadata": {},
   "outputs": [
    {
     "name": "stderr",
     "output_type": "stream",
     "text": [
      "Enabling notebook extension jupyter-gmaps/extension...\n",
      "      - Validating: ok\n",
      "Enabling notebook extension jupyter-js-widgets/extension...\n",
      "      - Validating: ok\n"
     ]
    }
   ],
   "source": [
    "!jupyter nbextension enable --py gmaps\n",
    "!jupyter nbextension enable --py widgetsnbextension\n",
    "%matplotlib inline\n"
   ]
  },
  {
   "cell_type": "code",
   "execution_count": 2,
   "id": "41aa0da3",
   "metadata": {},
   "outputs": [],
   "source": [
    "# Import the dependencies.\n",
    "import pandas as pd\n",
    "import gmaps\n",
    "import requests\n",
    "# Import the API key.\n",
    "from config import g_key\n",
    "# Configure gmaps to use your Google API key.\n",
    "gmaps.configure(api_key = g_key)"
   ]
  },
  {
   "cell_type": "code",
   "execution_count": 3,
   "id": "dc6b8640",
   "metadata": {},
   "outputs": [
    {
     "data": {
      "text/html": [
       "<div>\n",
       "<style scoped>\n",
       "    .dataframe tbody tr th:only-of-type {\n",
       "        vertical-align: middle;\n",
       "    }\n",
       "\n",
       "    .dataframe tbody tr th {\n",
       "        vertical-align: top;\n",
       "    }\n",
       "\n",
       "    .dataframe thead th {\n",
       "        text-align: right;\n",
       "    }\n",
       "</style>\n",
       "<table border=\"1\" class=\"dataframe\">\n",
       "  <thead>\n",
       "    <tr style=\"text-align: right;\">\n",
       "      <th></th>\n",
       "      <th>City_ID</th>\n",
       "      <th>City</th>\n",
       "      <th>Lat</th>\n",
       "      <th>Lng</th>\n",
       "      <th>Max Temp</th>\n",
       "      <th>Humidity</th>\n",
       "      <th>Cloudiness</th>\n",
       "      <th>Wind Speed</th>\n",
       "      <th>Country</th>\n",
       "      <th>Date</th>\n",
       "    </tr>\n",
       "  </thead>\n",
       "  <tbody>\n",
       "    <tr>\n",
       "      <th>0</th>\n",
       "      <td>0</td>\n",
       "      <td>Tasiilaq</td>\n",
       "      <td>65.6145</td>\n",
       "      <td>-37.6368</td>\n",
       "      <td>15.96</td>\n",
       "      <td>86</td>\n",
       "      <td>60</td>\n",
       "      <td>3.94</td>\n",
       "      <td>GL</td>\n",
       "      <td>2022-04-10 23:14:16</td>\n",
       "    </tr>\n",
       "    <tr>\n",
       "      <th>1</th>\n",
       "      <td>1</td>\n",
       "      <td>Leningradskiy</td>\n",
       "      <td>69.3833</td>\n",
       "      <td>178.4167</td>\n",
       "      <td>0.28</td>\n",
       "      <td>89</td>\n",
       "      <td>70</td>\n",
       "      <td>4.97</td>\n",
       "      <td>RU</td>\n",
       "      <td>2022-04-10 23:14:17</td>\n",
       "    </tr>\n",
       "    <tr>\n",
       "      <th>2</th>\n",
       "      <td>2</td>\n",
       "      <td>Provideniya</td>\n",
       "      <td>64.3833</td>\n",
       "      <td>-173.3000</td>\n",
       "      <td>26.71</td>\n",
       "      <td>80</td>\n",
       "      <td>100</td>\n",
       "      <td>8.99</td>\n",
       "      <td>RU</td>\n",
       "      <td>2022-04-10 23:14:03</td>\n",
       "    </tr>\n",
       "    <tr>\n",
       "      <th>3</th>\n",
       "      <td>3</td>\n",
       "      <td>Barrow</td>\n",
       "      <td>71.2906</td>\n",
       "      <td>-156.7887</td>\n",
       "      <td>1.42</td>\n",
       "      <td>71</td>\n",
       "      <td>100</td>\n",
       "      <td>18.41</td>\n",
       "      <td>US</td>\n",
       "      <td>2022-04-10 23:14:17</td>\n",
       "    </tr>\n",
       "    <tr>\n",
       "      <th>4</th>\n",
       "      <td>4</td>\n",
       "      <td>Arraial Do Cabo</td>\n",
       "      <td>-22.9661</td>\n",
       "      <td>-42.0278</td>\n",
       "      <td>75.88</td>\n",
       "      <td>81</td>\n",
       "      <td>51</td>\n",
       "      <td>6.96</td>\n",
       "      <td>BR</td>\n",
       "      <td>2022-04-10 23:14:17</td>\n",
       "    </tr>\n",
       "  </tbody>\n",
       "</table>\n",
       "</div>"
      ],
      "text/plain": [
       "   City_ID             City      Lat       Lng  Max Temp  Humidity  \\\n",
       "0        0         Tasiilaq  65.6145  -37.6368     15.96        86   \n",
       "1        1    Leningradskiy  69.3833  178.4167      0.28        89   \n",
       "2        2      Provideniya  64.3833 -173.3000     26.71        80   \n",
       "3        3           Barrow  71.2906 -156.7887      1.42        71   \n",
       "4        4  Arraial Do Cabo -22.9661  -42.0278     75.88        81   \n",
       "\n",
       "   Cloudiness  Wind Speed Country                 Date  \n",
       "0          60        3.94      GL  2022-04-10 23:14:16  \n",
       "1          70        4.97      RU  2022-04-10 23:14:17  \n",
       "2         100        8.99      RU  2022-04-10 23:14:03  \n",
       "3         100       18.41      US  2022-04-10 23:14:17  \n",
       "4          51        6.96      BR  2022-04-10 23:14:17  "
      ]
     },
     "execution_count": 3,
     "metadata": {},
     "output_type": "execute_result"
    }
   ],
   "source": [
    "# Store the CSV you saved created in part one into a DataFrame.\n",
    "city_data_df = pd.read_csv(\"weather_data/cities.csv\")\n",
    "city_data_df.head()"
   ]
  },
  {
   "cell_type": "code",
   "execution_count": 4,
   "id": "230b2ff3",
   "metadata": {},
   "outputs": [
    {
     "data": {
      "text/plain": [
       "City_ID         int64\n",
       "City           object\n",
       "Lat           float64\n",
       "Lng           float64\n",
       "Max Temp      float64\n",
       "Humidity        int64\n",
       "Cloudiness      int64\n",
       "Wind Speed    float64\n",
       "Country        object\n",
       "Date           object\n",
       "dtype: object"
      ]
     },
     "execution_count": 4,
     "metadata": {},
     "output_type": "execute_result"
    }
   ],
   "source": [
    "city_data_df.dtypes"
   ]
  },
  {
   "cell_type": "code",
   "execution_count": 5,
   "id": "bfa5082b",
   "metadata": {},
   "outputs": [],
   "source": [
    "# Get the maximum temperature.\n",
    "max_temp = city_data_df[\"Max Temp\"]\n",
    "temps = []\n",
    "for temp in max_temp:\n",
    "    temps.append(max(temp, 0))"
   ]
  },
  {
   "cell_type": "code",
   "execution_count": 8,
   "id": "9f2954dd",
   "metadata": {},
   "outputs": [
    {
     "data": {
      "application/vnd.jupyter.widget-view+json": {
       "model_id": "167dcd09bf44451ea51ab35ca2282792",
       "version_major": 2,
       "version_minor": 0
      },
      "text/plain": [
       "Figure(layout=FigureLayout(height='420px'))"
      ]
     },
     "metadata": {},
     "output_type": "display_data"
    }
   ],
   "source": [
    "# Heatmap of temperature\n",
    "# Get the latitude and longitude.\n",
    "locations = city_data_df[[\"Lat\", \"Lng\"]]\n",
    "# Get the maximum temperature.\n",
    "max_temp = city_data_df[\"Max Temp\"]\n",
    "# Assign the figure variable.\n",
    "fig = gmaps.figure(center=(30.0, 31.0), zoom_level=1.5)\n",
    "# Assign the heatmap variable.\n",
    "heat_layer = gmaps.heatmap_layer(locations, weights=[max(temp, 0) for temp in max_temp], dissipating=False, max_intensity=300, point_radius=4)\n",
    "# Add the heatmap layer.\n",
    "fig.add_layer(heat_layer)\n",
    "# Call the figure to plot the data.\n",
    "fig"
   ]
  },
  {
   "cell_type": "code",
   "execution_count": 9,
   "id": "3b577c55",
   "metadata": {},
   "outputs": [
    {
     "data": {
      "application/vnd.jupyter.widget-view+json": {
       "model_id": "de7e1a69d810455ca9d7c339cf26c58b",
       "version_major": 2,
       "version_minor": 0
      },
      "text/plain": [
       "Figure(layout=FigureLayout(height='420px'))"
      ]
     },
     "metadata": {},
     "output_type": "display_data"
    }
   ],
   "source": [
    "# Heatmap of percent humidity\n",
    "locations = city_data_df[[\"Lat\", \"Lng\"]]\n",
    "humidity = city_data_df[\"Humidity\"]\n",
    "fig = gmaps.figure(center=(30.0, 31.0), zoom_level=1.5)\n",
    "heat_layer = gmaps.heatmap_layer(locations, weights=humidity, dissipating=False, max_intensity=300, point_radius=4)\n",
    "\n",
    "fig.add_layer(heat_layer)\n",
    "# Call the figure to plot the data.\n",
    "fig"
   ]
  },
  {
   "cell_type": "code",
   "execution_count": 10,
   "id": "20f31d52",
   "metadata": {},
   "outputs": [
    {
     "data": {
      "application/vnd.jupyter.widget-view+json": {
       "model_id": "e0152f94b038436f807da58a75f1c1fc",
       "version_major": 2,
       "version_minor": 0
      },
      "text/plain": [
       "Figure(layout=FigureLayout(height='420px'))"
      ]
     },
     "metadata": {},
     "output_type": "display_data"
    }
   ],
   "source": [
    "# Heatmap of percent cloudiness\n",
    "locations = city_data_df[[\"Lat\", \"Lng\"]]\n",
    "clouds = city_data_df[\"Cloudiness\"]\n",
    "fig = gmaps.figure(center=(30.0, 31.0), zoom_level=1.5)\n",
    "heat_layer = gmaps.heatmap_layer(locations, weights=clouds, dissipating=False, max_intensity=300, point_radius=4)\n",
    "\n",
    "fig.add_layer(heat_layer)\n",
    "# Call the figure to plot the data.\n",
    "fig"
   ]
  },
  {
   "cell_type": "code",
   "execution_count": 11,
   "id": "9db90783",
   "metadata": {},
   "outputs": [
    {
     "data": {
      "application/vnd.jupyter.widget-view+json": {
       "model_id": "06f4189e5fc642f7be453a60c6106e09",
       "version_major": 2,
       "version_minor": 0
      },
      "text/plain": [
       "Figure(layout=FigureLayout(height='420px'))"
      ]
     },
     "metadata": {},
     "output_type": "display_data"
    }
   ],
   "source": [
    "# Heatmap of percent wind speed\n",
    "locations = city_data_df[[\"Lat\", \"Lng\"]]\n",
    "wind = city_data_df[\"Wind Speed\"]\n",
    "fig = gmaps.figure(center=(30.0, 31.0), zoom_level=1.5)\n",
    "heat_layer = gmaps.heatmap_layer(locations, weights=wind, dissipating=False, max_intensity=300, point_radius=4)\n",
    "\n",
    "fig.add_layer(heat_layer)\n",
    "# Call the figure to plot the data.\n",
    "fig"
   ]
  },
  {
   "cell_type": "code",
   "execution_count": 12,
   "id": "3c0ac783",
   "metadata": {},
   "outputs": [
    {
     "name": "stdout",
     "output_type": "stream",
     "text": [
      "What is the minimum temperature you would like for your trip? 75\n",
      "What is the maximum temperature you would like for your trip? 90\n"
     ]
    }
   ],
   "source": [
    "# Ask the customer to add a minimum and maximum temperature value.\n",
    "min_temp = float(input(\"What is the minimum temperature you would like for your trip? \"))\n",
    "max_temp = float(input(\"What is the maximum temperature you would like for your trip? \"))"
   ]
  },
  {
   "cell_type": "code",
   "execution_count": 13,
   "id": "d5e75989",
   "metadata": {},
   "outputs": [
    {
     "data": {
      "text/html": [
       "<div>\n",
       "<style scoped>\n",
       "    .dataframe tbody tr th:only-of-type {\n",
       "        vertical-align: middle;\n",
       "    }\n",
       "\n",
       "    .dataframe tbody tr th {\n",
       "        vertical-align: top;\n",
       "    }\n",
       "\n",
       "    .dataframe thead th {\n",
       "        text-align: right;\n",
       "    }\n",
       "</style>\n",
       "<table border=\"1\" class=\"dataframe\">\n",
       "  <thead>\n",
       "    <tr style=\"text-align: right;\">\n",
       "      <th></th>\n",
       "      <th>City_ID</th>\n",
       "      <th>City</th>\n",
       "      <th>Lat</th>\n",
       "      <th>Lng</th>\n",
       "      <th>Max Temp</th>\n",
       "      <th>Humidity</th>\n",
       "      <th>Cloudiness</th>\n",
       "      <th>Wind Speed</th>\n",
       "      <th>Country</th>\n",
       "      <th>Date</th>\n",
       "    </tr>\n",
       "  </thead>\n",
       "  <tbody>\n",
       "    <tr>\n",
       "      <th>4</th>\n",
       "      <td>4</td>\n",
       "      <td>Arraial Do Cabo</td>\n",
       "      <td>-22.9661</td>\n",
       "      <td>-42.0278</td>\n",
       "      <td>75.88</td>\n",
       "      <td>81</td>\n",
       "      <td>51</td>\n",
       "      <td>6.96</td>\n",
       "      <td>BR</td>\n",
       "      <td>2022-04-10 23:14:17</td>\n",
       "    </tr>\n",
       "    <tr>\n",
       "      <th>6</th>\n",
       "      <td>6</td>\n",
       "      <td>Alto Araguaia</td>\n",
       "      <td>-17.3147</td>\n",
       "      <td>-53.2153</td>\n",
       "      <td>76.01</td>\n",
       "      <td>73</td>\n",
       "      <td>66</td>\n",
       "      <td>2.57</td>\n",
       "      <td>BR</td>\n",
       "      <td>2022-04-10 23:14:18</td>\n",
       "    </tr>\n",
       "    <tr>\n",
       "      <th>7</th>\n",
       "      <td>7</td>\n",
       "      <td>Vaini</td>\n",
       "      <td>-21.2000</td>\n",
       "      <td>-175.2000</td>\n",
       "      <td>78.96</td>\n",
       "      <td>89</td>\n",
       "      <td>75</td>\n",
       "      <td>6.91</td>\n",
       "      <td>TO</td>\n",
       "      <td>2022-04-10 23:14:19</td>\n",
       "    </tr>\n",
       "    <tr>\n",
       "      <th>21</th>\n",
       "      <td>21</td>\n",
       "      <td>Rikitea</td>\n",
       "      <td>-23.1203</td>\n",
       "      <td>-134.9692</td>\n",
       "      <td>79.54</td>\n",
       "      <td>72</td>\n",
       "      <td>3</td>\n",
       "      <td>17.76</td>\n",
       "      <td>PF</td>\n",
       "      <td>2022-04-10 23:14:24</td>\n",
       "    </tr>\n",
       "    <tr>\n",
       "      <th>27</th>\n",
       "      <td>27</td>\n",
       "      <td>Kirakira</td>\n",
       "      <td>-10.4544</td>\n",
       "      <td>161.9205</td>\n",
       "      <td>82.54</td>\n",
       "      <td>78</td>\n",
       "      <td>81</td>\n",
       "      <td>3.94</td>\n",
       "      <td>SB</td>\n",
       "      <td>2022-04-10 23:14:26</td>\n",
       "    </tr>\n",
       "    <tr>\n",
       "      <th>30</th>\n",
       "      <td>30</td>\n",
       "      <td>Kralendijk</td>\n",
       "      <td>12.1500</td>\n",
       "      <td>-68.2667</td>\n",
       "      <td>78.46</td>\n",
       "      <td>87</td>\n",
       "      <td>94</td>\n",
       "      <td>20.40</td>\n",
       "      <td>BQ</td>\n",
       "      <td>2022-04-10 23:14:26</td>\n",
       "    </tr>\n",
       "    <tr>\n",
       "      <th>32</th>\n",
       "      <td>32</td>\n",
       "      <td>Saint-Pierre</td>\n",
       "      <td>-21.3393</td>\n",
       "      <td>55.4781</td>\n",
       "      <td>76.68</td>\n",
       "      <td>81</td>\n",
       "      <td>75</td>\n",
       "      <td>12.66</td>\n",
       "      <td>RE</td>\n",
       "      <td>2022-04-10 23:14:27</td>\n",
       "    </tr>\n",
       "    <tr>\n",
       "      <th>33</th>\n",
       "      <td>33</td>\n",
       "      <td>San Cristobal</td>\n",
       "      <td>7.7669</td>\n",
       "      <td>-72.2250</td>\n",
       "      <td>75.38</td>\n",
       "      <td>61</td>\n",
       "      <td>96</td>\n",
       "      <td>1.34</td>\n",
       "      <td>VE</td>\n",
       "      <td>2022-04-10 23:14:27</td>\n",
       "    </tr>\n",
       "    <tr>\n",
       "      <th>35</th>\n",
       "      <td>35</td>\n",
       "      <td>Kapaa</td>\n",
       "      <td>22.0752</td>\n",
       "      <td>-159.3190</td>\n",
       "      <td>80.58</td>\n",
       "      <td>82</td>\n",
       "      <td>100</td>\n",
       "      <td>12.66</td>\n",
       "      <td>US</td>\n",
       "      <td>2022-04-10 23:14:28</td>\n",
       "    </tr>\n",
       "    <tr>\n",
       "      <th>40</th>\n",
       "      <td>40</td>\n",
       "      <td>Lompoc</td>\n",
       "      <td>34.6391</td>\n",
       "      <td>-120.4579</td>\n",
       "      <td>76.12</td>\n",
       "      <td>59</td>\n",
       "      <td>0</td>\n",
       "      <td>28.01</td>\n",
       "      <td>US</td>\n",
       "      <td>2022-04-10 23:14:30</td>\n",
       "    </tr>\n",
       "  </tbody>\n",
       "</table>\n",
       "</div>"
      ],
      "text/plain": [
       "    City_ID             City      Lat       Lng  Max Temp  Humidity  \\\n",
       "4         4  Arraial Do Cabo -22.9661  -42.0278     75.88        81   \n",
       "6         6    Alto Araguaia -17.3147  -53.2153     76.01        73   \n",
       "7         7            Vaini -21.2000 -175.2000     78.96        89   \n",
       "21       21          Rikitea -23.1203 -134.9692     79.54        72   \n",
       "27       27         Kirakira -10.4544  161.9205     82.54        78   \n",
       "30       30       Kralendijk  12.1500  -68.2667     78.46        87   \n",
       "32       32     Saint-Pierre -21.3393   55.4781     76.68        81   \n",
       "33       33    San Cristobal   7.7669  -72.2250     75.38        61   \n",
       "35       35            Kapaa  22.0752 -159.3190     80.58        82   \n",
       "40       40           Lompoc  34.6391 -120.4579     76.12        59   \n",
       "\n",
       "    Cloudiness  Wind Speed Country                 Date  \n",
       "4           51        6.96      BR  2022-04-10 23:14:17  \n",
       "6           66        2.57      BR  2022-04-10 23:14:18  \n",
       "7           75        6.91      TO  2022-04-10 23:14:19  \n",
       "21           3       17.76      PF  2022-04-10 23:14:24  \n",
       "27          81        3.94      SB  2022-04-10 23:14:26  \n",
       "30          94       20.40      BQ  2022-04-10 23:14:26  \n",
       "32          75       12.66      RE  2022-04-10 23:14:27  \n",
       "33          96        1.34      VE  2022-04-10 23:14:27  \n",
       "35         100       12.66      US  2022-04-10 23:14:28  \n",
       "40           0       28.01      US  2022-04-10 23:14:30  "
      ]
     },
     "execution_count": 13,
     "metadata": {},
     "output_type": "execute_result"
    }
   ],
   "source": [
    "# Filter the dataset to find the cities that fit the criteria.\n",
    "preferred_cities_df = city_data_df.loc[(city_data_df[\"Max Temp\"] <= max_temp) & \\\n",
    "                                       (city_data_df[\"Max Temp\"] >= min_temp)]\n",
    "preferred_cities_df.head(10)"
   ]
  },
  {
   "cell_type": "code",
   "execution_count": 16,
   "id": "e2953308",
   "metadata": {},
   "outputs": [
    {
     "data": {
      "text/plain": [
       "City_ID       177\n",
       "City          177\n",
       "Lat           177\n",
       "Lng           177\n",
       "Max Temp      177\n",
       "Humidity      177\n",
       "Cloudiness    177\n",
       "Wind Speed    177\n",
       "Country       177\n",
       "Date          177\n",
       "dtype: int64"
      ]
     },
     "execution_count": 16,
     "metadata": {},
     "output_type": "execute_result"
    }
   ],
   "source": [
    "preferred_cities_df.count()"
   ]
  },
  {
   "cell_type": "code",
   "execution_count": null,
   "id": "917ef684",
   "metadata": {},
   "outputs": [],
   "source": []
  }
 ],
 "metadata": {
  "kernelspec": {
   "display_name": "Python 3 (ipykernel)",
   "language": "python",
   "name": "python3"
  },
  "language_info": {
   "codemirror_mode": {
    "name": "ipython",
    "version": 3
   },
   "file_extension": ".py",
   "mimetype": "text/x-python",
   "name": "python",
   "nbconvert_exporter": "python",
   "pygments_lexer": "ipython3",
   "version": "3.7.11"
  }
 },
 "nbformat": 4,
 "nbformat_minor": 5
}
